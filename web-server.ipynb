{
 "cells": [
  {
   "cell_type": "markdown",
   "metadata": {},
   "source": [
    "### Basic POST setup"
   ]
  },
  {
   "cell_type": "code",
   "execution_count": 25,
   "metadata": {},
   "outputs": [],
   "source": [
    "from fastapi import FastAPI\n",
    "from pydantic import BaseModel\n",
    "\n",
    "# Initialize the FastAPI app\n",
    "app = FastAPI()\n",
    "\n",
    "# Define the Pydantic model\n",
    "class Query(BaseModel):\n",
    "    query: str # type hint, query must be of type str\n",
    "\n",
    "# This defines a POST endpoint /chat/.\n",
    "# When this endpoint is called, the chat function will be triggered.\n",
    "@app.post(\"/chat/\")\n",
    "async def chat(query: Query):\n",
    "    # query is automatically validated by FastAPI\n",
    "    # using the pydantic model\n",
    "    return {\"received_query\": query.query}"
   ]
  },
  {
   "cell_type": "markdown",
   "metadata": {},
   "source": [
    "#### Testing the Query object"
   ]
  },
  {
   "cell_type": "code",
   "execution_count": 26,
   "metadata": {},
   "outputs": [
    {
     "name": "stdout",
     "output_type": "stream",
     "text": [
      "query='hello, testing'\n",
      "hello, testing\n"
     ]
    }
   ],
   "source": [
    "test_query = Query(query=\"hello, testing\")\n",
    "print(test_query)\n",
    "print(test_query.query)"
   ]
  },
  {
   "cell_type": "code",
   "execution_count": 27,
   "metadata": {},
   "outputs": [
    {
     "ename": "ValidationError",
     "evalue": "1 validation error for Query\nquery\n  Input should be a valid string [type=string_type, input_value=1234, input_type=int]\n    For further information visit https://errors.pydantic.dev/2.9/v/string_type",
     "output_type": "error",
     "traceback": [
      "\u001b[0;31m---------------------------------------------------------------------------\u001b[0m",
      "\u001b[0;31mValidationError\u001b[0m                           Traceback (most recent call last)",
      "Cell \u001b[0;32mIn[27], line 1\u001b[0m\n\u001b[0;32m----> 1\u001b[0m test_query \u001b[38;5;241m=\u001b[39m \u001b[43mQuery\u001b[49m\u001b[43m(\u001b[49m\u001b[43mquery\u001b[49m\u001b[38;5;241;43m=\u001b[39;49m\u001b[38;5;241;43m1234\u001b[39;49m\u001b[43m)\u001b[49m\n\u001b[1;32m      2\u001b[0m \u001b[38;5;28mprint\u001b[39m(test_query)\n\u001b[1;32m      3\u001b[0m \u001b[38;5;28mprint\u001b[39m(test_query\u001b[38;5;241m.\u001b[39mquery)\n",
      "File \u001b[0;32m~/anaconda3/envs/rag/lib/python3.10/site-packages/pydantic/main.py:212\u001b[0m, in \u001b[0;36mBaseModel.__init__\u001b[0;34m(self, **data)\u001b[0m\n\u001b[1;32m    210\u001b[0m \u001b[38;5;66;03m# `__tracebackhide__` tells pytest and some other tools to omit this function from tracebacks\u001b[39;00m\n\u001b[1;32m    211\u001b[0m __tracebackhide__ \u001b[38;5;241m=\u001b[39m \u001b[38;5;28;01mTrue\u001b[39;00m\n\u001b[0;32m--> 212\u001b[0m validated_self \u001b[38;5;241m=\u001b[39m \u001b[38;5;28;43mself\u001b[39;49m\u001b[38;5;241;43m.\u001b[39;49m\u001b[43m__pydantic_validator__\u001b[49m\u001b[38;5;241;43m.\u001b[39;49m\u001b[43mvalidate_python\u001b[49m\u001b[43m(\u001b[49m\u001b[43mdata\u001b[49m\u001b[43m,\u001b[49m\u001b[43m \u001b[49m\u001b[43mself_instance\u001b[49m\u001b[38;5;241;43m=\u001b[39;49m\u001b[38;5;28;43mself\u001b[39;49m\u001b[43m)\u001b[49m\n\u001b[1;32m    213\u001b[0m \u001b[38;5;28;01mif\u001b[39;00m \u001b[38;5;28mself\u001b[39m \u001b[38;5;129;01mis\u001b[39;00m \u001b[38;5;129;01mnot\u001b[39;00m validated_self:\n\u001b[1;32m    214\u001b[0m     warnings\u001b[38;5;241m.\u001b[39mwarn(\n\u001b[1;32m    215\u001b[0m         \u001b[38;5;124m'\u001b[39m\u001b[38;5;124mA custom validator is returning a value other than `self`.\u001b[39m\u001b[38;5;130;01m\\n\u001b[39;00m\u001b[38;5;124m'\u001b[39m\n\u001b[1;32m    216\u001b[0m         \u001b[38;5;124m\"\u001b[39m\u001b[38;5;124mReturning anything other than `self` from a top level model validator isn\u001b[39m\u001b[38;5;124m'\u001b[39m\u001b[38;5;124mt supported when validating via `__init__`.\u001b[39m\u001b[38;5;130;01m\\n\u001b[39;00m\u001b[38;5;124m\"\u001b[39m\n\u001b[1;32m    217\u001b[0m         \u001b[38;5;124m'\u001b[39m\u001b[38;5;124mSee the `model_validator` docs (https://docs.pydantic.dev/latest/concepts/validators/#model-validators) for more details.\u001b[39m\u001b[38;5;124m'\u001b[39m,\n\u001b[1;32m    218\u001b[0m         category\u001b[38;5;241m=\u001b[39m\u001b[38;5;28;01mNone\u001b[39;00m,\n\u001b[1;32m    219\u001b[0m     )\n",
      "\u001b[0;31mValidationError\u001b[0m: 1 validation error for Query\nquery\n  Input should be a valid string [type=string_type, input_value=1234, input_type=int]\n    For further information visit https://errors.pydantic.dev/2.9/v/string_type"
     ]
    }
   ],
   "source": [
    "test_query = Query(query=1234)\n",
    "print(test_query)\n",
    "print(test_query.query)"
   ]
  },
  {
   "cell_type": "markdown",
   "metadata": {},
   "source": [
    "#### Simulate sending JSON data using a test client "
   ]
  },
  {
   "cell_type": "code",
   "execution_count": null,
   "metadata": {},
   "outputs": [
    {
     "name": "stdout",
     "output_type": "stream",
     "text": [
      "{'received_query': 'hello, how are you?'}\n"
     ]
    }
   ],
   "source": [
    "from fastapi.testclient import TestClient\n",
    "\n",
    "# Use the app defined above\n",
    "client = TestClient(app)\n",
    "\n",
    "test_data = {\n",
    "    \"query\": \"hello, how are you?\"\n",
    "}\n",
    "\n",
    "response = client.post(\"/chat/\", json=test_data)\n",
    "print(response.json()) "
   ]
  },
  {
   "cell_type": "markdown",
   "metadata": {},
   "source": [
    "### Basic Websocket setup"
   ]
  },
  {
   "cell_type": "code",
   "execution_count": 28,
   "metadata": {},
   "outputs": [],
   "source": [
    "from fastapi import WebSocket\n",
    "\n",
    "app = FastAPI()\n",
    "\n",
    "@app.websocket(\"/ws/\")\n",
    "async def websocket_endpoint(websocket: WebSocket):\n",
    "    await websocket.accept()  # Accept the WebSocket connection\n",
    "    await websocket.send_text(\"Welcome to the WebSocket chat!\")  # Initial message to the client\n",
    "\n",
    "    try:\n",
    "        while True:\n",
    "            # Wait to receive a message from the client\n",
    "            client_message = await websocket.receive_text()\n",
    "            \n",
    "            # Process the message (this is where you can add any logic)\n",
    "            response_message = f\"Message received: {client_message}\"\n",
    "            \n",
    "            # Send a response back to the client\n",
    "            await websocket.send_text(response_message)\n",
    "    except Exception as e:\n",
    "        # Handle errors and send them to the client\n",
    "        await websocket.send_text(f\"Error: {e}\")\n",
    "    finally:\n",
    "        # Cleanly close the WebSocket connection\n",
    "        await websocket.close()"
   ]
  },
  {
   "cell_type": "code",
   "execution_count": 29,
   "metadata": {},
   "outputs": [
    {
     "name": "stdout",
     "output_type": "stream",
     "text": [
      "Welcome to the WebSocket chat!\n",
      "Message received: hello websocket!\n",
      "Message received: respond please\n"
     ]
    }
   ],
   "source": [
    "client = TestClient(app)\n",
    "\n",
    "def test_websocket():\n",
    "\n",
    "    with client.websocket_connect(\"/ws/\") as websocket:\n",
    "\n",
    "        # Receive the initial server message\n",
    "        response = websocket.receive_text()\n",
    "        print(response)\n",
    "\n",
    "        # Send a message and receive the server's response\n",
    "        websocket.send_text(\"hello websocket!\")\n",
    "        response = websocket.receive_text()\n",
    "        print(response)\n",
    "\n",
    "        # Send another message and receive the server's response\n",
    "        websocket.send_text(\"respond please\")\n",
    "        response = websocket.receive_text()\n",
    "        print(response)\n",
    "\n",
    "test_websocket()"
   ]
  }
 ],
 "metadata": {
  "kernelspec": {
   "display_name": "rag",
   "language": "python",
   "name": "python3"
  },
  "language_info": {
   "codemirror_mode": {
    "name": "ipython",
    "version": 3
   },
   "file_extension": ".py",
   "mimetype": "text/x-python",
   "name": "python",
   "nbconvert_exporter": "python",
   "pygments_lexer": "ipython3",
   "version": "3.10.15"
  }
 },
 "nbformat": 4,
 "nbformat_minor": 2
}
