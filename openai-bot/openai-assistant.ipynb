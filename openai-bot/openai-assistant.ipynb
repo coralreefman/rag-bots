{
 "cells": [
  {
   "cell_type": "markdown",
   "metadata": {},
   "source": [
    "#### Initialize"
   ]
  },
  {
   "cell_type": "code",
   "execution_count": 48,
   "metadata": {},
   "outputs": [],
   "source": [
    "from openai import OpenAI\n",
    "client = OpenAI()"
   ]
  },
  {
   "cell_type": "markdown",
   "metadata": {},
   "source": [
    "#### Pretty Printing Helper\n"
   ]
  },
  {
   "cell_type": "code",
   "execution_count": 49,
   "metadata": {},
   "outputs": [],
   "source": [
    "import json\n",
    "\n",
    "def print_json(obj):\n",
    "    display(json.loads(obj.model_dump_json()))"
   ]
  },
  {
   "cell_type": "markdown",
   "metadata": {},
   "source": [
    "#### Retrieve Assistant"
   ]
  },
  {
   "cell_type": "code",
   "execution_count": 50,
   "metadata": {},
   "outputs": [
    {
     "data": {
      "text/plain": [
       "{'id': 'asst_1XlpF0EPSnscirf5ZfHWwSLc',\n",
       " 'created_at': 1732627992,\n",
       " 'description': None,\n",
       " 'instructions': \"\\nYou are an expert customer service rep for the housing collective HOME0001. Use your knowledge base to answer questions about the project.\\nIf you don't find an answer just say 'I don't know :('. Only answer questions related to the project.\\nTalk in a casual, pragmatic tone. Avoid marketing or corporate speak at all costs.\\n\",\n",
       " 'metadata': {},\n",
       " 'model': 'gpt-4o',\n",
       " 'name': 'HOME0001 Customer Assistant',\n",
       " 'object': 'assistant',\n",
       " 'tools': [{'type': 'file_search',\n",
       "   'file_search': {'max_num_results': None,\n",
       "    'ranking_options': {'score_threshold': 0.0,\n",
       "     'ranker': 'default_2024_08_21'}}}],\n",
       " 'response_format': 'auto',\n",
       " 'temperature': 1.0,\n",
       " 'tool_resources': {'code_interpreter': None,\n",
       "  'file_search': {'vector_store_ids': ['vs_xtbJAaWAJ2pxp4gY8RfE3bU0']}},\n",
       " 'top_p': 1.0}"
      ]
     },
     "metadata": {},
     "output_type": "display_data"
    }
   ],
   "source": [
    "home0001_assistant = client.beta.assistants.retrieve(\"asst_1XlpF0EPSnscirf5ZfHWwSLc\") \n",
    "print_json(home0001_assistant)"
   ]
  },
  {
   "cell_type": "markdown",
   "metadata": {},
   "source": [
    "#### Create new thread"
   ]
  },
  {
   "cell_type": "code",
   "execution_count": 51,
   "metadata": {},
   "outputs": [
    {
     "data": {
      "text/plain": [
       "{'id': 'thread_jOiUJZ4fcXyVpe4fegNKp48Q',\n",
       " 'created_at': 1732727313,\n",
       " 'metadata': {},\n",
       " 'object': 'thread',\n",
       " 'tool_resources': {'code_interpreter': None, 'file_search': None}}"
      ]
     },
     "metadata": {},
     "output_type": "display_data"
    }
   ],
   "source": [
    "new_thread = client.beta.threads.create()\n",
    "print_json(new_thread)"
   ]
  },
  {
   "cell_type": "code",
   "execution_count": 53,
   "metadata": {},
   "outputs": [
    {
     "name": "stdout",
     "output_type": "stream",
     "text": [
      "thread_jOiUJZ4fcXyVpe4fegNKp48Q\n"
     ]
    }
   ],
   "source": [
    "print(new_thread.id)"
   ]
  },
  {
   "cell_type": "markdown",
   "metadata": {},
   "source": [
    "#### Add a message to the thread"
   ]
  },
  {
   "cell_type": "code",
   "execution_count": 30,
   "metadata": {},
   "outputs": [
    {
     "data": {
      "text/plain": [
       "{'id': 'msg_LPMHEiNJbGZZswFWiDPRDlQu',\n",
       " 'assistant_id': None,\n",
       " 'attachments': [],\n",
       " 'completed_at': None,\n",
       " 'content': [{'text': {'annotations': [], 'value': 'what is home0001?'},\n",
       "   'type': 'text'}],\n",
       " 'created_at': 1732721431,\n",
       " 'incomplete_at': None,\n",
       " 'incomplete_details': None,\n",
       " 'metadata': {},\n",
       " 'object': 'thread.message',\n",
       " 'role': 'user',\n",
       " 'run_id': None,\n",
       " 'status': None,\n",
       " 'thread_id': 'thread_Us5pCsEn4q1jCMgMpMS6CpZ3'}"
      ]
     },
     "metadata": {},
     "output_type": "display_data"
    }
   ],
   "source": [
    "thread_message = client.beta.threads.messages.create(\n",
    "    new_thread.id,\n",
    "    role='user',\n",
    "    content=\"what is home0001?\"\n",
    ")\n",
    "print_json(thread_message)"
   ]
  },
  {
   "cell_type": "markdown",
   "metadata": {},
   "source": [
    "#### Create a run  \n",
    "To get a completion from an Assistant for a given Thread, we must create a Run. Creating a Run will indicate to an Assistant it should look at the messages in the Thread and take action: either by adding a single response, or using tools."
   ]
  },
  {
   "cell_type": "code",
   "execution_count": 31,
   "metadata": {},
   "outputs": [
    {
     "data": {
      "text/plain": [
       "{'id': 'run_JGKinSUC4e5xs6IXubVyg8aH',\n",
       " 'assistant_id': 'asst_1XlpF0EPSnscirf5ZfHWwSLc',\n",
       " 'cancelled_at': None,\n",
       " 'completed_at': None,\n",
       " 'created_at': 1732721692,\n",
       " 'expires_at': 1732722292,\n",
       " 'failed_at': None,\n",
       " 'incomplete_details': None,\n",
       " 'instructions': \"\\nYou are an expert customer service rep for the housing collective HOME0001. Use your knowledge base to answer questions about the project.\\nIf you don't find an answer just say 'I don't know :('. Only answer questions related to the project.\\nTalk in a casual, pragmatic tone. Avoid marketing or corporate speak at all costs.\\n\",\n",
       " 'last_error': None,\n",
       " 'max_completion_tokens': None,\n",
       " 'max_prompt_tokens': None,\n",
       " 'metadata': {},\n",
       " 'model': 'gpt-4o',\n",
       " 'object': 'thread.run',\n",
       " 'parallel_tool_calls': True,\n",
       " 'required_action': None,\n",
       " 'response_format': 'auto',\n",
       " 'started_at': None,\n",
       " 'status': 'queued',\n",
       " 'thread_id': 'thread_Us5pCsEn4q1jCMgMpMS6CpZ3',\n",
       " 'tool_choice': 'auto',\n",
       " 'tools': [{'type': 'file_search',\n",
       "   'file_search': {'max_num_results': None,\n",
       "    'ranking_options': {'score_threshold': 0.0,\n",
       "     'ranker': 'default_2024_08_21'}}}],\n",
       " 'truncation_strategy': {'type': 'auto', 'last_messages': None},\n",
       " 'usage': None,\n",
       " 'temperature': 1.0,\n",
       " 'top_p': 1.0,\n",
       " 'tool_resources': {}}"
      ]
     },
     "metadata": {},
     "output_type": "display_data"
    }
   ],
   "source": [
    "new_run = client.beta.threads.runs.create(\n",
    "    thread_id=new_thread.id,\n",
    "    assistant_id=home0001_assistant.id\n",
    ")\n",
    "print_json(new_run)"
   ]
  },
  {
   "cell_type": "markdown",
   "metadata": {},
   "source": [
    "Creating a Run is an asynchronous operation. It will return immediately with the Run's metadata, which includes a `status` that will initially be set to `queued`."
   ]
  },
  {
   "cell_type": "markdown",
   "metadata": {},
   "source": [
    "To know when the Assistant has completed processing, we can poll the Run in a loop."
   ]
  },
  {
   "cell_type": "code",
   "execution_count": 32,
   "metadata": {},
   "outputs": [],
   "source": [
    "import time\n",
    "\n",
    "def wait_on_run(run, thread):\n",
    "    while run.status == \"queued\" or run.status == \"in_progress\":\n",
    "        run = client.beta.threads.runs.retrieve(\n",
    "            thread_id=thread.id,\n",
    "            run_id=run.id,\n",
    "        )\n",
    "        time.sleep(0.1)\n",
    "    return run"
   ]
  },
  {
   "cell_type": "code",
   "execution_count": 34,
   "metadata": {},
   "outputs": [
    {
     "data": {
      "text/plain": [
       "{'id': 'run_JGKinSUC4e5xs6IXubVyg8aH',\n",
       " 'assistant_id': 'asst_1XlpF0EPSnscirf5ZfHWwSLc',\n",
       " 'cancelled_at': None,\n",
       " 'completed_at': 1732721703,\n",
       " 'created_at': 1732721692,\n",
       " 'expires_at': None,\n",
       " 'failed_at': None,\n",
       " 'incomplete_details': None,\n",
       " 'instructions': \"\\nYou are an expert customer service rep for the housing collective HOME0001. Use your knowledge base to answer questions about the project.\\nIf you don't find an answer just say 'I don't know :('. Only answer questions related to the project.\\nTalk in a casual, pragmatic tone. Avoid marketing or corporate speak at all costs.\\n\",\n",
       " 'last_error': None,\n",
       " 'max_completion_tokens': None,\n",
       " 'max_prompt_tokens': None,\n",
       " 'metadata': {},\n",
       " 'model': 'gpt-4o',\n",
       " 'object': 'thread.run',\n",
       " 'parallel_tool_calls': True,\n",
       " 'required_action': None,\n",
       " 'response_format': 'auto',\n",
       " 'started_at': 1732721692,\n",
       " 'status': 'completed',\n",
       " 'thread_id': 'thread_Us5pCsEn4q1jCMgMpMS6CpZ3',\n",
       " 'tool_choice': 'auto',\n",
       " 'tools': [{'type': 'file_search',\n",
       "   'file_search': {'max_num_results': None,\n",
       "    'ranking_options': {'score_threshold': 0.0,\n",
       "     'ranker': 'default_2024_08_21'}}}],\n",
       " 'truncation_strategy': {'type': 'auto', 'last_messages': None},\n",
       " 'usage': {'completion_tokens': 133,\n",
       "  'prompt_tokens': 10341,\n",
       "  'total_tokens': 10474,\n",
       "  'prompt_token_details': {'cached_tokens': 0}},\n",
       " 'temperature': 1.0,\n",
       " 'top_p': 1.0,\n",
       " 'tool_resources': {}}"
      ]
     },
     "metadata": {},
     "output_type": "display_data"
    }
   ],
   "source": [
    "run = wait_on_run(new_run, new_thread)\n",
    "print_json(run)"
   ]
  },
  {
   "cell_type": "markdown",
   "metadata": {},
   "source": [
    "`create_and_poll` returns after the run is completed."
   ]
  },
  {
   "cell_type": "code",
   "execution_count": 39,
   "metadata": {},
   "outputs": [
    {
     "data": {
      "text/plain": [
       "{'id': 'run_8Y16ep9Vj7D8PAoDnYMCTT7K',\n",
       " 'assistant_id': 'asst_1XlpF0EPSnscirf5ZfHWwSLc',\n",
       " 'cancelled_at': None,\n",
       " 'completed_at': 1732723954,\n",
       " 'created_at': 1732723952,\n",
       " 'expires_at': None,\n",
       " 'failed_at': None,\n",
       " 'incomplete_details': None,\n",
       " 'instructions': \"\\nYou are an expert customer service rep for the housing collective HOME0001. Use your knowledge base to answer questions about the project.\\nIf you don't find an answer just say 'I don't know :('. Only answer questions related to the project.\\nTalk in a casual, pragmatic tone. Avoid marketing or corporate speak at all costs.\\n\",\n",
       " 'last_error': None,\n",
       " 'max_completion_tokens': None,\n",
       " 'max_prompt_tokens': None,\n",
       " 'metadata': {},\n",
       " 'model': 'gpt-4o',\n",
       " 'object': 'thread.run',\n",
       " 'parallel_tool_calls': True,\n",
       " 'required_action': None,\n",
       " 'response_format': 'auto',\n",
       " 'started_at': 1732723953,\n",
       " 'status': 'completed',\n",
       " 'thread_id': 'thread_Us5pCsEn4q1jCMgMpMS6CpZ3',\n",
       " 'tool_choice': 'auto',\n",
       " 'tools': [{'type': 'file_search',\n",
       "   'file_search': {'max_num_results': None,\n",
       "    'ranking_options': {'score_threshold': 0.0,\n",
       "     'ranker': 'default_2024_08_21'}}}],\n",
       " 'truncation_strategy': {'type': 'auto', 'last_messages': None},\n",
       " 'usage': {'completion_tokens': 15,\n",
       "  'prompt_tokens': 9315,\n",
       "  'total_tokens': 9330,\n",
       "  'prompt_token_details': {'cached_tokens': 0}},\n",
       " 'temperature': 1.0,\n",
       " 'top_p': 1.0,\n",
       " 'tool_resources': {}}"
      ]
     },
     "metadata": {},
     "output_type": "display_data"
    }
   ],
   "source": [
    "polled_run = client.beta.threads.runs.create_and_poll(\n",
    "    thread_id=new_thread.id, \n",
    "    assistant_id=home0001_assistant.id\n",
    ")\n",
    "print_json(polled_run)"
   ]
  },
  {
   "cell_type": "markdown",
   "metadata": {},
   "source": [
    "#### Retrieve messages  \n",
    "Messages are ordered in reverse-chronological order so the most recent comes first.\n"
   ]
  },
  {
   "cell_type": "code",
   "execution_count": 38,
   "metadata": {},
   "outputs": [
    {
     "data": {
      "text/plain": [
       "{'data': [{'id': 'msg_2NqkYswhvuErdpAPP4bigu3v',\n",
       "   'assistant_id': 'asst_1XlpF0EPSnscirf5ZfHWwSLc',\n",
       "   'attachments': [],\n",
       "   'completed_at': None,\n",
       "   'content': [{'text': {'annotations': [{'end_index': 486,\n",
       "        'file_citation': {'file_id': 'file-TbpKhpSWiPL6GSWCwqGeu7'},\n",
       "        'start_index': 465,\n",
       "        'text': '【4:0†home0001qa.json】',\n",
       "        'type': 'file_citation'}],\n",
       "      'value': \"HOME0001 is a global housing network that offers fully-equipped and furnished homes. It's a housing co-op where you buy a home designed by the architecture studio OMA, and you fully own it—it's not a timeshare or a rental scheme. You can move in with just your suitcase, and you have the option to swap cities and stay in homes in other locations whenever you want. Currently, it's active in places like New York and Los Angeles, with plans to expand to more cities【4:0†home0001qa.json】.\"},\n",
       "     'type': 'text'}],\n",
       "   'created_at': 1732721695,\n",
       "   'incomplete_at': None,\n",
       "   'incomplete_details': None,\n",
       "   'metadata': {},\n",
       "   'object': 'thread.message',\n",
       "   'role': 'assistant',\n",
       "   'run_id': 'run_JGKinSUC4e5xs6IXubVyg8aH',\n",
       "   'status': None,\n",
       "   'thread_id': 'thread_Us5pCsEn4q1jCMgMpMS6CpZ3'},\n",
       "  {'id': 'msg_LPMHEiNJbGZZswFWiDPRDlQu',\n",
       "   'assistant_id': None,\n",
       "   'attachments': [],\n",
       "   'completed_at': None,\n",
       "   'content': [{'text': {'annotations': [], 'value': 'what is home0001?'},\n",
       "     'type': 'text'}],\n",
       "   'created_at': 1732721431,\n",
       "   'incomplete_at': None,\n",
       "   'incomplete_details': None,\n",
       "   'metadata': {},\n",
       "   'object': 'thread.message',\n",
       "   'role': 'user',\n",
       "   'run_id': None,\n",
       "   'status': None,\n",
       "   'thread_id': 'thread_Us5pCsEn4q1jCMgMpMS6CpZ3'}],\n",
       " 'object': 'list',\n",
       " 'first_id': 'msg_2NqkYswhvuErdpAPP4bigu3v',\n",
       " 'last_id': 'msg_LPMHEiNJbGZZswFWiDPRDlQu',\n",
       " 'has_more': False}"
      ]
     },
     "metadata": {},
     "output_type": "display_data"
    },
    {
     "name": "stdout",
     "output_type": "stream",
     "text": [
      "HOME0001 is a global housing network that offers fully-equipped and furnished homes. It's a housing co-op where you buy a home designed by the architecture studio OMA, and you fully own it—it's not a timeshare or a rental scheme. You can move in with just your suitcase, and you have the option to swap cities and stay in homes in other locations whenever you want. Currently, it's active in places like New York and Los Angeles, with plans to expand to more cities【4:0†home0001qa.json】.\n"
     ]
    }
   ],
   "source": [
    "messages = client.beta.threads.messages.list(thread_id=new_thread.id)\n",
    "print_json(messages)\n",
    "print(list(messages)[0].content[0].text.value)"
   ]
  },
  {
   "cell_type": "code",
   "execution_count": null,
   "metadata": {},
   "outputs": [
    {
     "data": {
      "text/plain": [
       "{'data': [{'id': 'msg_qb6qUSXgJtkdkdTLeizSRBD6',\n",
       "   'assistant_id': 'asst_1XlpF0EPSnscirf5ZfHWwSLc',\n",
       "   'attachments': [],\n",
       "   'completed_at': None,\n",
       "   'content': [{'text': {'annotations': [],\n",
       "      'value': \"Sure thing! In HOME0001, once you're a homeowner in their network, you can request to stay in other homes within the scheme. Say you own a home in New York but want to visit Los Angeles, you can just text the management your intended dates. After confirmation, you can stay in an LA home without paying nightly rates, although there's usually a cleaning fee. Plus, getting into your new temporary home is easy with smart locks you can open with your phone. It’s a pretty flexible setup for folks who want to live in different cities without the hassle of standard rentals or hotels.\"},\n",
       "     'type': 'text'}],\n",
       "   'created_at': 1732724411,\n",
       "   'incomplete_at': None,\n",
       "   'incomplete_details': None,\n",
       "   'metadata': {},\n",
       "   'object': 'thread.message',\n",
       "   'role': 'assistant',\n",
       "   'run_id': 'run_7u7z6fiz5GZOgDvpXen71Hz0',\n",
       "   'status': None,\n",
       "   'thread_id': 'thread_Us5pCsEn4q1jCMgMpMS6CpZ3'}],\n",
       " 'object': 'list',\n",
       " 'first_id': 'msg_qb6qUSXgJtkdkdTLeizSRBD6',\n",
       " 'last_id': 'msg_qb6qUSXgJtkdkdTLeizSRBD6',\n",
       " 'has_more': False}"
      ]
     },
     "metadata": {},
     "output_type": "display_data"
    }
   ],
   "source": [
    "# Create a message to append to our thread\n",
    "message = client.beta.threads.messages.create(\n",
    "    thread_id=new_thread.id, role=\"user\", content=\"Could you explain this to me?\"\n",
    ")\n",
    "\n",
    "# Execute our run\n",
    "run = client.beta.threads.runs.create(\n",
    "    thread_id=new_thread.id,\n",
    "    assistant_id=home0001_assistant.id,\n",
    ")\n",
    "\n",
    "# Wait for completion\n",
    "wait_on_run(run, new_thread)\n",
    "\n",
    "# Retrieve all the messages added after our last user message\n",
    "messages = client.beta.threads.messages.list(\n",
    "    thread_id=new_thread.id, order=\"asc\", after=message.id\n",
    ")\n",
    "print_json(messages)\n",
    "print(list(messages)[0].content[0].text.value)"
   ]
  },
  {
   "cell_type": "markdown",
   "metadata": {},
   "source": [
    "### Example\n",
    "https://github.com/openai/openai-cookbook/blob/main/examples/Assistants_API_overview_python.ipynb"
   ]
  },
  {
   "cell_type": "code",
   "execution_count": 42,
   "metadata": {},
   "outputs": [],
   "source": [
    "from openai import OpenAI\n",
    "\n",
    "HOME0001_ASSISTANT_ID = \"asst_1XlpF0EPSnscirf5ZfHWwSLc\"\n",
    "\n",
    "client = OpenAI()\n",
    "\n",
    "def submit_message(assistant_id, thread, user_message):\n",
    "    client.beta.threads.messages.create(\n",
    "        thread_id=thread.id, role=\"user\", content=user_message\n",
    "    )\n",
    "    return client.beta.threads.runs.create(\n",
    "        thread_id=thread.id,\n",
    "        assistant_id=assistant_id,\n",
    "    )\n",
    "\n",
    "\n",
    "def get_response(thread):\n",
    "    return client.beta.threads.messages.list(thread_id=thread.id, order=\"asc\")"
   ]
  },
  {
   "cell_type": "code",
   "execution_count": 43,
   "metadata": {},
   "outputs": [],
   "source": [
    "def create_thread_and_run(user_input):\n",
    "    thread = client.beta.threads.create()\n",
    "    run = submit_message(HOME0001_ASSISTANT_ID, thread, user_input)\n",
    "    return thread, run"
   ]
  },
  {
   "cell_type": "code",
   "execution_count": 44,
   "metadata": {},
   "outputs": [],
   "source": [
    "# Emulating concurrent user requests\n",
    "thread1, run1 = create_thread_and_run(\n",
    "    \"i need a house. Can you help me?\"\n",
    ")"
   ]
  },
  {
   "cell_type": "code",
   "execution_count": 45,
   "metadata": {},
   "outputs": [],
   "source": [
    "# Pretty printing helper\n",
    "def pretty_print(messages):\n",
    "    print(\"# Messages\")\n",
    "    for m in messages:\n",
    "        print(f\"{m.role}: {m.content[0].text.value}\")\n",
    "    print()\n",
    "\n",
    "# Waiting in a loop\n",
    "def wait_on_run(run, thread):\n",
    "    while run.status == \"queued\" or run.status == \"in_progress\":\n",
    "        run = client.beta.threads.runs.retrieve(\n",
    "            thread_id=thread.id,\n",
    "            run_id=run.id,\n",
    "        )\n",
    "        time.sleep(0.5)\n",
    "    return run"
   ]
  },
  {
   "cell_type": "code",
   "execution_count": 46,
   "metadata": {},
   "outputs": [
    {
     "name": "stdout",
     "output_type": "stream",
     "text": [
      "# Messages\n",
      "user: i need a house. Can you help me?\n",
      "assistant: Sure, I can help you with that. Could you provide a bit more detail on what you're looking for? For example, are you interested in renting or buying? And do you have a specific location in mind?\n",
      "\n"
     ]
    }
   ],
   "source": [
    "# Wait for Run 1\n",
    "run1 = wait_on_run(run1, thread1)\n",
    "pretty_print(get_response(thread1))"
   ]
  },
  {
   "cell_type": "code",
   "execution_count": 47,
   "metadata": {},
   "outputs": [
    {
     "name": "stdout",
     "output_type": "stream",
     "text": [
      "# Messages\n",
      "user: i need a house. Can you help me?\n",
      "assistant: Sure, I can help you with that. Could you provide a bit more detail on what you're looking for? For example, are you interested in renting or buying? And do you have a specific location in mind?\n",
      "user: i wanna rent in new york!\n",
      "assistant: Home0001 has some rental options in New York. They offer a variety of apartments, including 2-bedroom, 1-bedroom, and studio apartments in their Lower East Side warehouse conversion. This is part of a global housing network, which means you can move in easily since these homes come fully furnished and equipped【6:0†home0001qa.json】. \n",
      "\n",
      "If you’re interested in joining their community and renting a space, Home0001 also provides flexibility with potential swaps to stay in other locations if you keep your apartment within their design specifications【6:10†home0001qa.json】.\n",
      "\n",
      "Would you like to know more about how to join their network or specifics about these apartments?\n",
      "\n"
     ]
    }
   ],
   "source": [
    "run2 = submit_message(HOME0001_ASSISTANT_ID, thread1, \"i wanna rent in new york!\")\n",
    "run2 = wait_on_run(run2, thread1)\n",
    "pretty_print(get_response(thread1))"
   ]
  }
 ],
 "metadata": {
  "kernelspec": {
   "display_name": "rag",
   "language": "python",
   "name": "python3"
  },
  "language_info": {
   "codemirror_mode": {
    "name": "ipython",
    "version": 3
   },
   "file_extension": ".py",
   "mimetype": "text/x-python",
   "name": "python",
   "nbconvert_exporter": "python",
   "pygments_lexer": "ipython3",
   "version": "3.10.15"
  }
 },
 "nbformat": 4,
 "nbformat_minor": 2
}
